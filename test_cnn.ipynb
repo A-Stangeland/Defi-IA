{
 "cells": [
  {
   "cell_type": "code",
   "execution_count": 1,
   "metadata": {},
   "outputs": [],
   "source": [
    "import pandas as pd\n",
    "import numpy as np\n",
    "import matplotlib.pyplot as plt\n",
    "from tqdm import tqdm"
   ]
  },
  {
   "cell_type": "code",
   "execution_count": 39,
   "metadata": {},
   "outputs": [],
   "source": [
    "data_train = pd.read_csv(\"Data/Train/tabular_train.csv\")\n",
    "data_test = pd.read_csv(\"Data/Test/tabular_test.csv\")"
   ]
  },
  {
   "cell_type": "code",
   "execution_count": 40,
   "metadata": {},
   "outputs": [
    {
     "name": "stderr",
     "output_type": "stream",
     "text": [
      "100%|██████████| 730/730 [00:26<00:00, 27.54it/s]\n"
     ]
    }
   ],
   "source": [
    "from data_processing import add_nbr_precp\n",
    "\n",
    "data_train = add_nbr_precp(data_train, K=5)\n",
    "\n",
    "data_train[\"number_sta\"] = data_train[\"Id\"].str.split(\"_\").apply(lambda s: s[0]).astype(int)\n",
    "for d in range(1,8):\n",
    "    data_train[f\"precip_day-{d}\"] = data_train.groupby(\"number_sta\")[\"precip_cumul\"].shift(d)\n",
    "for d in range(2, 8):\n",
    "    data_train[f\"precip_avg{d}d\"] = data_train[[\"precip_cumul\"] + [f\"precip_day-{k}\" for k in range(1, d)]].mean(axis=1)\n",
    "\n",
    "X_station = pd.read_csv(\"Data/Train/X_station_Train.csv\")\n",
    "X_station[\"Id_split\"] = X_station[\"Id\"].str.split(\"_\")\n",
    "# X_station[\"hour\"] = X_station[\"Id_split\"].apply(lambda s: s[-1]).astype(int)\n",
    "X_station[\"Id\"] = X_station[\"Id_split\"].apply(lambda s: s[:2]).str.join(\"_\")\n",
    "X_station['date'] = pd.to_datetime(X_station['date'])\n",
    "X_station[\"month\"] = X_station[\"date\"].dt.month\n",
    "data_train = data_train.merge(X_station[[\"Id\", \"month\"]].groupby(\"Id\").first().reset_index(), on=\"Id\", how=\"left\")"
   ]
  },
  {
   "cell_type": "code",
   "execution_count": 42,
   "metadata": {},
   "outputs": [],
   "source": [
    "y = np.log(data_train[\"Ground_truth\"] + 1)"
   ]
  },
  {
   "cell_type": "code",
   "execution_count": 41,
   "metadata": {},
   "outputs": [],
   "source": [
    "\n",
    "data_train = data_train.groupby(\"number_sta\").fillna(method=\"ffill\").fillna(method=\"bfill\")"
   ]
  },
  {
   "cell_type": "code",
   "execution_count": 101,
   "metadata": {},
   "outputs": [
    {
     "data": {
      "text/html": [
       "<div>\n",
       "<style scoped>\n",
       "    .dataframe tbody tr th:only-of-type {\n",
       "        vertical-align: middle;\n",
       "    }\n",
       "\n",
       "    .dataframe tbody tr th {\n",
       "        vertical-align: top;\n",
       "    }\n",
       "\n",
       "    .dataframe thead th {\n",
       "        text-align: right;\n",
       "    }\n",
       "</style>\n",
       "<table border=\"1\" class=\"dataframe\">\n",
       "  <thead>\n",
       "    <tr style=\"text-align: right;\">\n",
       "      <th></th>\n",
       "      <th>number_sta</th>\n",
       "      <th>day</th>\n",
       "      <th>precip_cumul</th>\n",
       "      <th>Ground_truth</th>\n",
       "    </tr>\n",
       "  </thead>\n",
       "  <tbody>\n",
       "    <tr>\n",
       "      <th>0</th>\n",
       "      <td>14066001</td>\n",
       "      <td>0</td>\n",
       "      <td>0.002139</td>\n",
       "      <td>0.036364</td>\n",
       "    </tr>\n",
       "    <tr>\n",
       "      <th>1</th>\n",
       "      <td>14126001</td>\n",
       "      <td>0</td>\n",
       "      <td>0.005348</td>\n",
       "      <td>0.005348</td>\n",
       "    </tr>\n",
       "    <tr>\n",
       "      <th>2</th>\n",
       "      <td>14137001</td>\n",
       "      <td>0</td>\n",
       "      <td>0.000000</td>\n",
       "      <td>0.036364</td>\n",
       "    </tr>\n",
       "    <tr>\n",
       "      <th>3</th>\n",
       "      <td>14216001</td>\n",
       "      <td>0</td>\n",
       "      <td>0.006417</td>\n",
       "      <td>0.042781</td>\n",
       "    </tr>\n",
       "    <tr>\n",
       "      <th>4</th>\n",
       "      <td>14296001</td>\n",
       "      <td>0</td>\n",
       "      <td>0.002139</td>\n",
       "      <td>0.142246</td>\n",
       "    </tr>\n",
       "    <tr>\n",
       "      <th>...</th>\n",
       "      <td>...</td>\n",
       "      <td>...</td>\n",
       "      <td>...</td>\n",
       "      <td>...</td>\n",
       "    </tr>\n",
       "    <tr>\n",
       "      <th>162102</th>\n",
       "      <td>86137003</td>\n",
       "      <td>729</td>\n",
       "      <td>0.036364</td>\n",
       "      <td>0.053476</td>\n",
       "    </tr>\n",
       "    <tr>\n",
       "      <th>162103</th>\n",
       "      <td>86165005</td>\n",
       "      <td>729</td>\n",
       "      <td>0.059893</td>\n",
       "      <td>0.034225</td>\n",
       "    </tr>\n",
       "    <tr>\n",
       "      <th>162104</th>\n",
       "      <td>86272002</td>\n",
       "      <td>729</td>\n",
       "      <td>0.059893</td>\n",
       "      <td>0.019251</td>\n",
       "    </tr>\n",
       "    <tr>\n",
       "      <th>162105</th>\n",
       "      <td>91200002</td>\n",
       "      <td>729</td>\n",
       "      <td>0.059893</td>\n",
       "      <td>0.017112</td>\n",
       "    </tr>\n",
       "    <tr>\n",
       "      <th>162106</th>\n",
       "      <td>95690001</td>\n",
       "      <td>729</td>\n",
       "      <td>0.057754</td>\n",
       "      <td>0.012834</td>\n",
       "    </tr>\n",
       "  </tbody>\n",
       "</table>\n",
       "<p>162107 rows × 4 columns</p>\n",
       "</div>"
      ],
      "text/plain": [
       "        number_sta  day  precip_cumul  Ground_truth\n",
       "0         14066001    0      0.002139      0.036364\n",
       "1         14126001    0      0.005348      0.005348\n",
       "2         14137001    0      0.000000      0.036364\n",
       "3         14216001    0      0.006417      0.042781\n",
       "4         14296001    0      0.002139      0.142246\n",
       "...            ...  ...           ...           ...\n",
       "162102    86137003  729      0.036364      0.053476\n",
       "162103    86165005  729      0.059893      0.034225\n",
       "162104    86272002  729      0.059893      0.019251\n",
       "162105    91200002  729      0.059893      0.017112\n",
       "162106    95690001  729      0.057754      0.012834\n",
       "\n",
       "[162107 rows x 4 columns]"
      ]
     },
     "execution_count": 101,
     "metadata": {},
     "output_type": "execute_result"
    }
   ],
   "source": [
    "data_train[\"Id_split\"] = data_train[\"Id\"].str.split(\"_\")\n",
    "data_train[\"number_sta\"] = data_train[\"Id_split\"].apply(lambda s: s[0]).astype(int)\n",
    "data_train[\"day\"] = data_train[\"Id_split\"].apply(lambda s: s[1]).astype(int)"
   ]
  },
  {
   "cell_type": "code",
   "execution_count": 102,
   "metadata": {},
   "outputs": [
    {
     "data": {
      "text/html": [
       "<div>\n",
       "<style scoped>\n",
       "    .dataframe tbody tr th:only-of-type {\n",
       "        vertical-align: middle;\n",
       "    }\n",
       "\n",
       "    .dataframe tbody tr th {\n",
       "        vertical-align: top;\n",
       "    }\n",
       "\n",
       "    .dataframe thead th {\n",
       "        text-align: right;\n",
       "    }\n",
       "</style>\n",
       "<table border=\"1\" class=\"dataframe\">\n",
       "  <thead>\n",
       "    <tr style=\"text-align: right;\">\n",
       "      <th></th>\n",
       "      <th>number_sta</th>\n",
       "      <th>day</th>\n",
       "      <th>precip_cumul</th>\n",
       "      <th>Ground_truth</th>\n",
       "    </tr>\n",
       "  </thead>\n",
       "  <tbody>\n",
       "    <tr>\n",
       "      <th>0</th>\n",
       "      <td>14066001</td>\n",
       "      <td>0</td>\n",
       "      <td>0.002139</td>\n",
       "      <td>0.036364</td>\n",
       "    </tr>\n",
       "    <tr>\n",
       "      <th>226</th>\n",
       "      <td>14066001</td>\n",
       "      <td>1</td>\n",
       "      <td>0.036364</td>\n",
       "      <td>0.125134</td>\n",
       "    </tr>\n",
       "    <tr>\n",
       "      <th>449</th>\n",
       "      <td>14066001</td>\n",
       "      <td>2</td>\n",
       "      <td>0.125134</td>\n",
       "      <td>0.006417</td>\n",
       "    </tr>\n",
       "    <tr>\n",
       "      <th>671</th>\n",
       "      <td>14066001</td>\n",
       "      <td>3</td>\n",
       "      <td>0.006417</td>\n",
       "      <td>0.004278</td>\n",
       "    </tr>\n",
       "    <tr>\n",
       "      <th>892</th>\n",
       "      <td>14066001</td>\n",
       "      <td>4</td>\n",
       "      <td>0.004278</td>\n",
       "      <td>0.032086</td>\n",
       "    </tr>\n",
       "    <tr>\n",
       "      <th>...</th>\n",
       "      <td>...</td>\n",
       "      <td>...</td>\n",
       "      <td>...</td>\n",
       "      <td>...</td>\n",
       "    </tr>\n",
       "    <tr>\n",
       "      <th>161198</th>\n",
       "      <td>95690001</td>\n",
       "      <td>725</td>\n",
       "      <td>0.025668</td>\n",
       "      <td>0.034225</td>\n",
       "    </tr>\n",
       "    <tr>\n",
       "      <th>161424</th>\n",
       "      <td>95690001</td>\n",
       "      <td>726</td>\n",
       "      <td>0.034225</td>\n",
       "      <td>0.000000</td>\n",
       "    </tr>\n",
       "    <tr>\n",
       "      <th>161649</th>\n",
       "      <td>95690001</td>\n",
       "      <td>727</td>\n",
       "      <td>0.000000</td>\n",
       "      <td>0.047059</td>\n",
       "    </tr>\n",
       "    <tr>\n",
       "      <th>161878</th>\n",
       "      <td>95690001</td>\n",
       "      <td>728</td>\n",
       "      <td>0.047059</td>\n",
       "      <td>0.057754</td>\n",
       "    </tr>\n",
       "    <tr>\n",
       "      <th>162106</th>\n",
       "      <td>95690001</td>\n",
       "      <td>729</td>\n",
       "      <td>0.057754</td>\n",
       "      <td>0.012834</td>\n",
       "    </tr>\n",
       "  </tbody>\n",
       "</table>\n",
       "<p>162107 rows × 4 columns</p>\n",
       "</div>"
      ],
      "text/plain": [
       "        number_sta  day  precip_cumul  Ground_truth\n",
       "0         14066001    0      0.002139      0.036364\n",
       "226       14066001    1      0.036364      0.125134\n",
       "449       14066001    2      0.125134      0.006417\n",
       "671       14066001    3      0.006417      0.004278\n",
       "892       14066001    4      0.004278      0.032086\n",
       "...            ...  ...           ...           ...\n",
       "161198    95690001  725      0.025668      0.034225\n",
       "161424    95690001  726      0.034225      0.000000\n",
       "161649    95690001  727      0.000000      0.047059\n",
       "161878    95690001  728      0.047059      0.057754\n",
       "162106    95690001  729      0.057754      0.012834\n",
       "\n",
       "[162107 rows x 4 columns]"
      ]
     },
     "execution_count": 102,
     "metadata": {},
     "output_type": "execute_result"
    }
   ],
   "source": [
    "data_train.sort_values([\"number_sta\", \"day\"])[[\"number_sta\", \"day\", \"precip_cumul\", \"Ground_truth\"]]"
   ]
  },
  {
   "cell_type": "code",
   "execution_count": 48,
   "metadata": {},
   "outputs": [
    {
     "data": {
      "text/plain": [
       "Index(['Ground_truth', 'baseline_obs', 'baseline_pred', 'lat', 'lon',\n",
       "       'height_sta', 'precip_cumul', 'precip_0', 'precip_1', 'precip_2',\n",
       "       ...\n",
       "       'precip_day-5', 'precip_day-6', 'precip_day-7', 'precip_avg2d',\n",
       "       'precip_avg3d', 'precip_avg4d', 'precip_avg5d', 'precip_avg6d',\n",
       "       'precip_avg7d', 'month'],\n",
       "      dtype='object', length=181)"
      ]
     },
     "execution_count": 48,
     "metadata": {},
     "output_type": "execute_result"
    }
   ],
   "source": [
    "scale_cols = data_train.columns[1:]\n",
    "scale_cols"
   ]
  },
  {
   "cell_type": "code",
   "execution_count": 49,
   "metadata": {},
   "outputs": [],
   "source": [
    "from sklearn.preprocessing import MinMaxScaler\n",
    "\n",
    "scaler = MinMaxScaler()\n",
    "data_train[scale_cols] = scaler.fit_transform(data_train[scale_cols])"
   ]
  },
  {
   "cell_type": "code",
   "execution_count": 52,
   "metadata": {},
   "outputs": [
    {
     "name": "stdout",
     "output_type": "stream",
     "text": [
      "0 precip\n",
      "0 t\n",
      "0 td\n",
      "0 hu\n",
      "0 ff\n",
      "0 dd\n",
      "1 precip\n",
      "1 t\n",
      "1 td\n",
      "1 hu\n",
      "1 ff\n",
      "1 dd\n",
      "2 precip\n",
      "2 t\n",
      "2 td\n",
      "2 hu\n",
      "2 ff\n",
      "2 dd\n",
      "3 precip\n",
      "3 t\n",
      "3 td\n",
      "3 hu\n",
      "3 ff\n",
      "3 dd\n",
      "4 precip\n",
      "4 t\n",
      "4 td\n",
      "4 hu\n",
      "4 ff\n",
      "4 dd\n",
      "5 precip\n",
      "5 t\n",
      "5 td\n",
      "5 hu\n",
      "5 ff\n",
      "5 dd\n",
      "6 precip\n",
      "6 t\n",
      "6 td\n",
      "6 hu\n",
      "6 ff\n",
      "6 dd\n",
      "7 precip\n",
      "7 t\n",
      "7 td\n",
      "7 hu\n",
      "7 ff\n",
      "7 dd\n",
      "8 precip\n",
      "8 t\n",
      "8 td\n",
      "8 hu\n",
      "8 ff\n",
      "8 dd\n",
      "9 precip\n",
      "9 t\n",
      "9 td\n",
      "9 hu\n",
      "9 ff\n",
      "9 dd\n",
      "10 precip\n",
      "10 t\n",
      "10 td\n",
      "10 hu\n",
      "10 ff\n",
      "10 dd\n",
      "11 precip\n",
      "11 t\n",
      "11 td\n",
      "11 hu\n",
      "11 ff\n",
      "11 dd\n",
      "12 precip\n",
      "12 t\n",
      "12 td\n",
      "12 hu\n",
      "12 ff\n",
      "12 dd\n",
      "13 precip\n",
      "13 t\n",
      "13 td\n",
      "13 hu\n",
      "13 ff\n",
      "13 dd\n",
      "14 precip\n",
      "14 t\n",
      "14 td\n",
      "14 hu\n",
      "14 ff\n",
      "14 dd\n",
      "15 precip\n",
      "15 t\n",
      "15 td\n",
      "15 hu\n",
      "15 ff\n",
      "15 dd\n",
      "16 precip\n",
      "16 t\n",
      "16 td\n",
      "16 hu\n",
      "16 ff\n",
      "16 dd\n",
      "17 precip\n",
      "17 t\n",
      "17 td\n",
      "17 hu\n",
      "17 ff\n",
      "17 dd\n",
      "18 precip\n",
      "18 t\n",
      "18 td\n",
      "18 hu\n",
      "18 ff\n",
      "18 dd\n",
      "19 precip\n",
      "19 t\n",
      "19 td\n",
      "19 hu\n",
      "19 ff\n",
      "19 dd\n",
      "20 precip\n",
      "20 t\n",
      "20 td\n",
      "20 hu\n",
      "20 ff\n",
      "20 dd\n",
      "21 precip\n",
      "21 t\n",
      "21 td\n",
      "21 hu\n",
      "21 ff\n",
      "21 dd\n",
      "22 precip\n",
      "22 t\n",
      "22 td\n",
      "22 hu\n",
      "22 ff\n",
      "22 dd\n",
      "23 precip\n",
      "23 t\n",
      "23 td\n",
      "23 hu\n",
      "23 ff\n",
      "23 dd\n"
     ]
    }
   ],
   "source": [
    "n, p = data_train.shape\n",
    "\n",
    "cnn_features = [\"precip\", \"t\", \"td\", \"hu\", \"ff\", \"dd\"]\n",
    "x_cnn = np.zeros((n, 24, 6))\n",
    "for t in range(24):\n",
    "    for i, feature in enumerate(cnn_features):\n",
    "        print(t, feature)\n",
    "        x_cnn[:,t,i] = data_train[f\"{feature}_{t}\"]"
   ]
  },
  {
   "cell_type": "code",
   "execution_count": 53,
   "metadata": {},
   "outputs": [],
   "source": [
    "flat_features = [\n",
    "    \"baseline_pred\", \n",
    "    \"lat\", \"lon\", \"height_sta\",\n",
    "    \"mean_nbr_precip\", \n",
    "    \"precip_day-1\",\"precip_day-2\",\"precip_day-3\",\"precip_day-4\",\"precip_day-5\",\"precip_day-6\",\"precip_day-7\",\n",
    "    \"precip_avg2d\", \"precip_avg3d\", \"precip_avg4d\", \"precip_avg5d\", \"precip_avg6d\", \"precip_avg7d\", \n",
    "    \"month\"\n",
    "]\n",
    "flat_n = len(flat_features)\n",
    "x_flat = np.zeros((n, flat_n))\n",
    "for i, feature in enumerate(flat_features):\n",
    "    x_flat[:,i] = data_train[feature]"
   ]
  },
  {
   "cell_type": "code",
   "execution_count": 54,
   "metadata": {},
   "outputs": [],
   "source": [
    "flat_n = len(flat_features)"
   ]
  },
  {
   "cell_type": "code",
   "execution_count": 93,
   "metadata": {},
   "outputs": [],
   "source": [
    "from tensorflow.keras.layers import Input, Dense, Conv1D, Flatten, Concatenate\n",
    "from tensorflow.keras.models import Model\n",
    "\n",
    "def build_model():\n",
    "    cnn_in = Input(shape=(24, 6))\n",
    "    x = Conv1D(32, kernel_size=5, activation=\"relu\")(cnn_in)\n",
    "    x = Conv1D(32, kernel_size=5, activation=\"relu\")(x)\n",
    "    # x = Conv1D(32, kernel_size=5, activation=\"relu\")(x)\n",
    "    x1 = Flatten()(x)\n",
    "\n",
    "\n",
    "    flat_in = Input(shape=(flat_n,))\n",
    "    x = Dense(16, activation=\"relu\")(flat_in)\n",
    "    x2 = Dense(16, activation=\"relu\")(x)\n",
    "\n",
    "    x = Concatenate(axis=-1)([x1, x2])\n",
    "    x = Dense(32, activation=\"relu\")(x)\n",
    "    x = Dense(32, activation=\"relu\")(x)\n",
    "    out = Dense(1, activation=\"linear\")(x)\n",
    "\n",
    "    model = Model(inputs=[cnn_in, flat_in], outputs=out)\n",
    "    return model\n",
    "\n",
    "model = build_model()"
   ]
  },
  {
   "cell_type": "code",
   "execution_count": 86,
   "metadata": {},
   "outputs": [],
   "source": [
    "model.compile(\n",
    "    optimizer=\"adam\",\n",
    "    loss=\"mean_squared_error\",\n",
    ")"
   ]
  },
  {
   "cell_type": "code",
   "execution_count": 87,
   "metadata": {},
   "outputs": [],
   "source": [
    "from sklearn.model_selection import train_test_split\n",
    "\n",
    "X_cnn_train, X_cnn_val, X_flat_train, X_flat_val, y_train, y_val = train_test_split(x_cnn, x_flat, y, test_size=.2)"
   ]
  },
  {
   "cell_type": "code",
   "execution_count": 88,
   "metadata": {},
   "outputs": [
    {
     "name": "stdout",
     "output_type": "stream",
     "text": [
      "Epoch 1/10\n",
      "1297/1297 [==============================] - 6s 4ms/step - loss: 0.3224\n",
      "Epoch 2/10\n",
      "1297/1297 [==============================] - 6s 4ms/step - loss: 0.2570\n",
      "Epoch 3/10\n",
      "1297/1297 [==============================] - 6s 4ms/step - loss: 0.2510\n",
      "Epoch 4/10\n",
      "1297/1297 [==============================] - 6s 4ms/step - loss: 0.2473\n",
      "Epoch 5/10\n",
      "1297/1297 [==============================] - 6s 4ms/step - loss: 0.2427\n",
      "Epoch 6/10\n",
      "1297/1297 [==============================] - 6s 4ms/step - loss: 0.2396\n",
      "Epoch 7/10\n",
      "1297/1297 [==============================] - 6s 4ms/step - loss: 0.2367\n",
      "Epoch 8/10\n",
      "1297/1297 [==============================] - 6s 4ms/step - loss: 0.2329\n",
      "Epoch 9/10\n",
      "1297/1297 [==============================] - 6s 4ms/step - loss: 0.2300\n",
      "Epoch 10/10\n",
      "1297/1297 [==============================] - 6s 4ms/step - loss: 0.2277A: 1s - \n"
     ]
    }
   ],
   "source": [
    "history = model.fit(\n",
    "    [X_cnn_train, X_flat_train],\n",
    "    y_train,\n",
    "    batch_size=100,\n",
    "    epochs=10\n",
    ")"
   ]
  },
  {
   "cell_type": "code",
   "execution_count": 89,
   "metadata": {},
   "outputs": [
    {
     "name": "stdout",
     "output_type": "stream",
     "text": [
      "1014/1014 [==============================] - 2s 2ms/step - loss: 0.2324\n"
     ]
    },
    {
     "data": {
      "text/plain": [
       "0.232449471950531"
      ]
     },
     "execution_count": 89,
     "metadata": {},
     "output_type": "execute_result"
    }
   ],
   "source": [
    "model.evaluate([X_cnn_val, X_flat_val], y_val)"
   ]
  },
  {
   "cell_type": "code",
   "execution_count": 92,
   "metadata": {},
   "outputs": [],
   "source": [
    "def MAPE(y_true, y_pred):\n",
    "    return 100 * np.mean(np.abs((y_true - y_pred) / (y_true+1)))\n",
    "\n",
    "def mape_scorer(estimator, X, y):\n",
    "    y_pred = estimator.predict(X)[:,0]\n",
    "    return 100 - MAPE(np.exp(y) - 1, np.exp(y_pred) - 1)"
   ]
  },
  {
   "cell_type": "code",
   "execution_count": 91,
   "id": "7d2c72d9",
   "metadata": {},
   "outputs": [
    {
     "data": {
      "image/png": "[encoded data removed]",
      "text/plain": [
       "<Figure size 576x576 with 1 Axes>"
      ]
     },
     "metadata": {
      "needs_background": "light"
     },
     "output_type": "display_data"
    },
    {
     "name": "stdout",
     "output_type": "stream",
     "text": [
      "30.824309296909274\n"
     ]
    }
   ],
   "source": [
    "y_pred = model.predict([X_cnn_val, X_flat_val])[:,0]\n",
    "\n",
    "plt.figure(figsize=(8,8))\n",
    "plt.plot(y_val, y_pred, \".\")\n",
    "plt.show()\n",
    "\n",
    "# print(MAPE(y_test, y_pred)) # previous best: 27.9057\n",
    "print(MAPE(np.exp(y_val)-1, np.exp(y_pred)-1)) # previous best: 27.9057"
   ]
  }
 ],
 "metadata": {
  "interpreter": {
   "hash": "e2ad0585fcec58b3848d423ef7b0963a6b3919eb240cea9d82640c1ee7ec4ba4"
  },
  "kernelspec": {
   "display_name": "Python 3.8.12 64-bit ('AIF': conda)",
   "language": "python",
   "name": "python3"
  },
  "language_info": {
   "codemirror_mode": {
    "name": "ipython",
    "version": 3
   },
   "file_extension": ".py",
   "mimetype": "text/x-python",
   "name": "python",
   "nbconvert_exporter": "python",
   "pygments_lexer": "ipython3",
   "version": "3.9.7"
  },
  "orig_nbformat": 4
 },
 "nbformat": 4,
 "nbformat_minor": 2
}
